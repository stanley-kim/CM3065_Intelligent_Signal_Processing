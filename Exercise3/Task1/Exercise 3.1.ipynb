{
 "cells": [
  {
   "cell_type": "markdown",
   "metadata": {},
   "source": [
    "# Task1 LSB Audio Steganography"
   ]
  },
  {
   "cell_type": "markdown",
   "metadata": {},
   "source": [
    "## 1. import library"
   ]
  },
  {
   "cell_type": "code",
   "execution_count": 1,
   "metadata": {},
   "outputs": [],
   "source": [
    "import wave"
   ]
  },
  {
   "cell_type": "markdown",
   "metadata": {},
   "source": [
    "## 2. define extract_LSB_from_File Function\n",
    " this function extracts the Least Significient Bits from file<br>\n",
    " input parameter is filename<br>\n",
    " return value is bytes list"
   ]
  },
  {
   "cell_type": "code",
   "execution_count": 2,
   "metadata": {},
   "outputs": [],
   "source": [
    "def extract_LSB_from_File(FILENAME):\n",
    "    with wave.open(FILENAME, mode='rb') as music:        \n",
    "        frame_bytes = bytes(music.readframes(music.getnframes()))    \n",
    "    return [frame_byte & 0x1 for frame_byte in frame_bytes]    "
   ]
  },
  {
   "cell_type": "markdown",
   "metadata": {},
   "source": [
    "## 3. define merge_8Bits_to_Char Function\n",
    "this function merges eight bits to one character<br>\n",
    "input parameter is bytes array which contains eight bits<br>\n",
    "return value is one character"
   ]
  },
  {
   "cell_type": "code",
   "execution_count": 3,
   "metadata": {},
   "outputs": [],
   "source": [
    "def merge_8Bits_to_Char(BYTES8):\n",
    "    return chr(eval('0b' + \"\".join(map(str, BYTES8))))    "
   ]
  },
  {
   "cell_type": "markdown",
   "metadata": {},
   "source": [
    "## 4. define convert_LSB_Bytes_to_Chars Function\n",
    "this function converts Bytes which contains LSB information to characters<br>\n",
    "input parameter is bytes arrray which contains LSB information<br>\n",
    "return value is characters list"
   ]
  },
  {
   "cell_type": "code",
   "execution_count": 4,
   "metadata": {},
   "outputs": [],
   "source": [
    "def convert_LSB_Bytes_to_Chars(LSB_BYTES):\n",
    "    chars = []\n",
    "    for bits8 in [LSB_BYTES[i: i+ 8] for i in range(0, len(LSB_BYTES), 8)]:\n",
    "        each_char = merge_8Bits_to_Char(bits8)\n",
    "        if each_char != '#':\n",
    "            chars.append(each_char)\n",
    "        else:\n",
    "            break\n",
    "    return chars"
   ]
  },
  {
   "cell_type": "markdown",
   "metadata": {},
   "source": [
    "## 5. define decode_File function\n",
    "this function<br>\n",
    "5.1. extract LSBs from file<br>\n",
    "5.2. convert LSBs to Characters List<br>\n",
    "5.3. join Characters List to make one message<br>\n",
    "input parameter is filename<br>\n",
    "return value is one string"
   ]
  },
  {
   "cell_type": "code",
   "execution_count": 5,
   "metadata": {},
   "outputs": [],
   "source": [
    "def decode_File(FILENAME):    \n",
    "    bytes_extracted = extract_LSB_from_File(FILENAME)\n",
    "    chars_extracted = convert_LSB_Bytes_to_Chars(bytes_extracted)    \n",
    "    return \"\".join(chars_extracted)"
   ]
  },
  {
   "cell_type": "markdown",
   "metadata": {},
   "source": [
    "## 6. print the hidden message"
   ]
  },
  {
   "cell_type": "code",
   "execution_count": 6,
   "metadata": {},
   "outputs": [
    {
     "name": "stdout",
     "output_type": "stream",
     "text": [
      "the hidden message (Mom I will not be home for supper)\n"
     ]
    }
   ],
   "source": [
    "decoded = decode_File(\"Ex3_sound1.wav\")\n",
    "print(f'the hidden message ({decoded})')"
   ]
  }
 ],
 "metadata": {
  "kernelspec": {
   "display_name": "Python 3",
   "language": "python",
   "name": "python3"
  },
  "language_info": {
   "codemirror_mode": {
    "name": "ipython",
    "version": 3
   },
   "file_extension": ".py",
   "mimetype": "text/x-python",
   "name": "python",
   "nbconvert_exporter": "python",
   "pygments_lexer": "ipython3",
   "version": "3.7.6"
  }
 },
 "nbformat": 4,
 "nbformat_minor": 4
}
