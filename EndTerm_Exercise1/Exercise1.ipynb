{
 "cells": [
  {
   "cell_type": "markdown",
   "metadata": {},
   "source": [
    "## Build A Motion Detected Alarm System with Python and OpenCV"
   ]
  },
  {
   "cell_type": "markdown",
   "metadata": {},
   "source": [
    "### import"
   ]
  },
  {
   "cell_type": "code",
   "execution_count": 1,
   "metadata": {},
   "outputs": [],
   "source": [
    "import cv2\n",
    "import math\n",
    "import time\n",
    "\n",
    "DEBUG_MODE = False"
   ]
  },
  {
   "cell_type": "markdown",
   "metadata": {},
   "source": [
    "### get euclidean distance between bounding boxes\n",
    "\n",
    "distance between bounding boxes"
   ]
  },
  {
   "cell_type": "code",
   "execution_count": 2,
   "metadata": {},
   "outputs": [],
   "source": [
    "def get_euclidean_distance(previous_box, current_box):\n",
    "    x_len = (previous_box['x0'] + previous_box['x1'] / 2) - (current_box['x0'] + current_box['x1'] / 2)\n",
    "    y_len = (previous_box['y0'] + previous_box['y1'] / 2) - (current_box['y0'] + current_box['y1'] / 2)\n",
    "    return math.sqrt(x_len ** 2 + y_len ** 2) \n",
    "\n",
    "def get_difference_of_coordinates(current_box, previous_box):\n",
    "    return [current_box['x0'] - previous_box['x0'], current_box['y0'] - previous_box['y0']]    "
   ]
  },
  {
   "cell_type": "markdown",
   "metadata": {},
   "source": [
    "### are similar area"
   ]
  },
  {
   "cell_type": "code",
   "execution_count": 3,
   "metadata": {},
   "outputs": [],
   "source": [
    "def are_similar_area(previous_box, min_euclidean_index, bounding_boxes):\n",
    "    if 0 > min_euclidean_index:\n",
    "        return False\n",
    "    previous_area = abs((previous_box['x0'] - previous_box['x1']) * (previous_box['y0'] - previous_box['y1']))        \n",
    "    current_box = bounding_boxes[min_euclidean_index]\n",
    "    current_area = abs((current_box['x0'] - current_box['x1']) * (current_box['y0'] - current_box['y1']))    \n",
    "\n",
    "    if previous_area > (current_area * 1.5):\n",
    "        return False\n",
    "    elif ( previous_area * 1.5 ) < current_area:\n",
    "        return False\n",
    "    else:       \n",
    "        return True"
   ]
  },
  {
   "cell_type": "markdown",
   "metadata": {},
   "source": [
    "### is car"
   ]
  },
  {
   "cell_type": "code",
   "execution_count": 4,
   "metadata": {},
   "outputs": [],
   "source": [
    "def is_Car(current_box, X_CROSSWALK, X_DIFF_INITIAL, Y_DIFF_INITIAL):\n",
    "    if current_box['counted_as_a_car_to_city_centre']:\n",
    "        return True\n",
    "    if current_box['x_diff'] == X_DIFF_INITIAL:\n",
    "        return False\n",
    "    if (current_box['x_diff'] == 0 and current_box['y_diff'] == 0 and \n",
    "        X_CROSSWALK < current_box['x0'] < X_CROSSWALK + 60):\n",
    "        return False\n",
    "    if is_Pedestrian(current_box, X_CROSSWALK):\n",
    "        return False\n",
    "    return True"
   ]
  },
  {
   "cell_type": "markdown",
   "metadata": {},
   "source": [
    "### is pedestrian"
   ]
  },
  {
   "cell_type": "code",
   "execution_count": 5,
   "metadata": {},
   "outputs": [],
   "source": [
    "def is_Pedestrian(current_box, X_CROSSWALK):\n",
    "    if (not current_box['counted_as_a_pedestrian'] and\n",
    "        X_CROSSWALK < current_box['x0'] < X_CROSSWALK + 60): \n",
    "        if ( current_box['x_diff'] == 0 and abs(current_box['y_diff']) <= 2 ):\n",
    "            current_box['counted_as_a_pedestrian'] = True\n",
    "        elif ( abs(current_box['x_diff']) == 1 and current_box['y_diff'] == 0 and\n",
    "            cv2.contourArea(current_box['contour']) < 1000 * 4\n",
    "        ):\n",
    "            current_box['counted_as_a_pedestrian'] = True\n",
    "#        elif ( abs(current_box['x_diff']) < 2 and\n",
    "#            abs(current_box['y_diff'] > 20) and\n",
    "#            cv2.contourArea(c) < 1000 * 2.9             \n",
    "#        ):\n",
    "#            current_box['is_counted_as_a_pedestrian'] = True\n",
    "    return current_box['counted_as_a_pedestrian']\n",
    "\n"
   ]
  },
  {
   "cell_type": "markdown",
   "metadata": {},
   "source": [
    "### check if a car to city centre"
   ]
  },
  {
   "cell_type": "code",
   "execution_count": 6,
   "metadata": {},
   "outputs": [],
   "source": [
    "def check_if_a_car_to_city_centre(current_box, X_CHECK, Y_CHECK):\n",
    "    current_id = current_box['id']\n",
    "    current_x0 = current_box['x0']\n",
    "    current_y0 = current_box['y0']\n",
    "    current_x1 = current_box['x1']\n",
    "    current_y1 = current_box['y1']\n",
    "    x_diff = current_box['x_diff']\n",
    "    y_diff = current_box['y_diff']\n",
    "    \n",
    "    if (not current_box['counted_as_a_car_to_city_centre'] and \n",
    "        current_x0 < X_CHECK < current_x1 and current_y1 < Y_CHECK and \n",
    "        x_diff < 0        \n",
    "       ):\n",
    "        current_box['counted_as_a_car_to_city_centre'] = True\n",
    "        return True\n",
    "    return False"
   ]
  },
  {
   "cell_type": "markdown",
   "metadata": {},
   "source": [
    "### draw bounding box"
   ]
  },
  {
   "cell_type": "code",
   "execution_count": 7,
   "metadata": {},
   "outputs": [],
   "source": [
    "def draw_Bounding_Box_and_Text(current_box, color_rect, frame, DEBUG_MODE): \n",
    "    current_id = current_box['id']\n",
    "    current_x0 = current_box['x0']\n",
    "    current_y0 = current_box['y0']\n",
    "    current_x1 = current_box['x1']\n",
    "    current_y1 = current_box['y1']\n",
    "\n",
    "    if DEBUG_MODE:\n",
    "        cv2.putText(frame, f'{current_id}', (current_x0, current_y0), cv2.FONT_HERSHEY_SIMPLEX, 0.9, (255, 255, 255), 2)     \n",
    "    cv2.rectangle(frame, (current_x0, current_y0), (current_x1, current_y1), color_rect, 1)\n",
    "    \n"
   ]
  },
  {
   "cell_type": "code",
   "execution_count": 8,
   "metadata": {},
   "outputs": [],
   "source": [
    "### print bonding box information"
   ]
  },
  {
   "cell_type": "code",
   "execution_count": 9,
   "metadata": {},
   "outputs": [],
   "source": [
    "def print_Bounding_Box_Info(current_box):\n",
    "    id = current_box['id']\n",
    "    x0 = current_box['x0']\n",
    "    y0 = current_box['y0']\n",
    "    x1 = current_box['x1']\n",
    "    y1 = current_box['y1']\n",
    "    x_diff = current_box['x_diff']\n",
    "    y_diff = current_box['y_diff']\n",
    "    counted_as_pestrian = current_box['counted_as_a_pedestrian']\n",
    "    print(f'{id} / {frame_number} / {(x0+x1)/2}, {(y0+y1)/2} / {x_diff} , {y_diff} / {x0},{y0},{x1},{y1} / {counted_as_pestrian}')"
   ]
  },
  {
   "cell_type": "markdown",
   "metadata": {},
   "source": [
    "### detect cars from video"
   ]
  },
  {
   "cell_type": "code",
   "execution_count": 10,
   "metadata": {},
   "outputs": [],
   "source": [
    "def detect_Cars_from_Video(video_name):\n",
    "    # Create a VideoCapture object and read the frames from an input file\n",
    "    video=cv2.VideoCapture(video_name)\n",
    " \n",
    "    TOTAL_WIDTH = int(video.get(cv2.CAP_PROP_FRAME_WIDTH))\n",
    "    TOTAL_HEIGHT = int(video.get(cv2.CAP_PROP_FRAME_HEIGHT))\n",
    "    MAX_DISTANCE = math.sqrt(TOTAL_WIDTH * TOTAL_WIDTH + TOTAL_HEIGHT * TOTAL_HEIGHT)\n",
    "\n",
    "    X_DOWNTOWN = TOTAL_WIDTH // 2 + 143    \n",
    "    Y_MAIN_STREET = int(video.get(cv2.CAP_PROP_FRAME_HEIGHT) / 2) + 40\n",
    "    \n",
    "    MIN_CAR_AREA = 1000 * 2.8\n",
    "    MAX_CAR_AREA = 1000 * 30\n",
    "\n",
    "    X_CROSSWALK = 540\n",
    "    X_DIFF_INITIAL = 100000\n",
    "    Y_DIFF_INITIAL = 100000\n",
    "    \n",
    "    # Check if the video opened successfully\n",
    "    if (video.isOpened()== False): \n",
    "      print(\"Error opening video file\")\n",
    "    \n",
    "    initial_frame = None\n",
    "    box_id = -1\n",
    "    bounding_boxes = [ [] for _ in range(int(video.get(cv2.CAP_PROP_FRAME_COUNT))) ] \n",
    "    number_of_cars_to_city_centre = 0\n",
    "    \n",
    "    # # Read until video is completed or we press 'q'\n",
    "    for frame_number in range(int(video.get(cv2.CAP_PROP_FRAME_COUNT))):\n",
    "        # Capture frame-by-frame\n",
    "        # Note that VideoCapture captures the frames of a video without considering the fps of the video\n",
    "        check, frame = video.read()\n",
    "        status = 0\n",
    "        \n",
    "        if not check:\n",
    "            break\n",
    "            \n",
    "        # Gray conversion and noise reduction (smoothening)\n",
    "        gray_frame=cv2.cvtColor(frame,cv2.COLOR_BGR2GRAY)    \n",
    "        blur_frame=cv2.GaussianBlur(gray_frame,(13, 13),0)\n",
    "    \n",
    "        if initial_frame is None:\n",
    "            initial_frame = blur_frame\n",
    "            continue\n",
    "    \n",
    "        delta_frame=cv2.absdiff(initial_frame,blur_frame)\n",
    "        \n",
    "        threshold_frame=cv2.threshold(delta_frame, 5, 255, cv2.THRESH_BINARY)[1]    \n",
    "        (contours,_)=cv2.findContours(threshold_frame,cv2.RETR_EXTERNAL,cv2.CHAIN_APPROX_SIMPLE)    \n",
    "    \n",
    "        for c in contours:\n",
    "            # contourArea() method filters out any small contours\n",
    "            # You can change this value\n",
    "            if not (MIN_CAR_AREA < cv2.contourArea(c) < MAX_CAR_AREA):            \n",
    "                continue\n",
    "           \n",
    "            status=status + 1\n",
    "            (x, y, w, h)=cv2.boundingRect(c)\n",
    "    \n",
    "            if Y_MAIN_STREET > y :\n",
    "                continue\n",
    "                    \n",
    "            box_id = box_id + 1       \n",
    "            bounding_boxes[frame_number].append({\n",
    "                'id': box_id, 'x0': x, 'y0': y, 'x1': x+w, 'y1': y+h, \n",
    "                'x_diff': X_DIFF_INITIAL, 'y_diff': Y_DIFF_INITIAL,                            \n",
    "                'counted_as_a_car_to_city_centre': False, 'counted_as_a_pedestrian': False,\n",
    "                'contour': c\n",
    "            })\n",
    "        cv2.rectangle(frame, (0, Y_MAIN_STREET), (TOTAL_WIDTH, TOTAL_HEIGHT), (0, 0, 255) , 1)\n",
    "        cv2.line(frame, (X_DOWNTOWN, Y_MAIN_STREET), (X_DOWNTOWN, TOTAL_HEIGHT- 120), (255, 0, 0), 1)\n",
    "        \n",
    "        if frame_number >= 1:\n",
    "            for previous_box in bounding_boxes[frame_number -1]:\n",
    "                min_euclidean_distance = MAX_DISTANCE\n",
    "                min_euclidean_index = -1\n",
    "                for i, current_box in enumerate(bounding_boxes[frame_number]):\n",
    "                    current_euclidean_distance = get_euclidean_distance(previous_box, current_box)\n",
    "                    if current_euclidean_distance <= min_euclidean_distance:\n",
    "                        min_euclidean_distance = current_euclidean_distance\n",
    "                        min_euclidean_index = i\n",
    "                if are_similar_area(previous_box, min_euclidean_index, bounding_boxes[frame_number]):                \n",
    "                    bounding_boxes[frame_number][min_euclidean_index]['id'] = previous_box['id']\n",
    "                    bounding_boxes[frame_number][min_euclidean_index]['counted_as_a_car_to_city_centre'] = previous_box['counted_as_a_car_to_city_centre'] \n",
    "                    bounding_boxes[frame_number][min_euclidean_index]['counted_as_a_pedestrian'] = previous_box['counted_as_a_pedestrian']                 \n",
    "                    bounding_boxes[frame_number][min_euclidean_index]['x_diff'],  bounding_boxes[frame_number][min_euclidean_index]['y_diff'] = get_difference_of_coordinates(bounding_boxes[frame_number][min_euclidean_index], previous_box)\n",
    "\n",
    "        number_of_cars_increased = False\n",
    "        for current_box in bounding_boxes[frame_number]:\n",
    "            if is_Car(current_box, X_CROSSWALK, X_DIFF_INITIAL, Y_DIFF_INITIAL):\n",
    "                color_rect = (0, 255, 0)\n",
    "                if check_if_a_car_to_city_centre(current_box, X_DOWNTOWN, TOTAL_HEIGHT * 7 // 8):\n",
    "                    number_of_cars_increased = True\n",
    "                    number_of_cars_to_city_centre = number_of_cars_to_city_centre + 1\n",
    "                    color_rect = (255, 0, 0)\n",
    "                draw_Bounding_Box_and_Text(current_box, color_rect, frame, DEBUG_MODE)\n",
    "            if DEBUG_MODE and current_box['x0'] > 500:\n",
    "                print_Bounding_Box_Info(current_box)\n",
    "\n",
    "        if DEBUG_MODE:\n",
    "            cv2.putText(frame, f'{ len(bounding_boxes[frame_number]) }', (30, 50), cv2.FONT_HERSHEY_SIMPLEX, 0.9, (255, 255, 255), 2) \n",
    "        cv2.putText(frame, f'cars to the city centre: { number_of_cars_to_city_centre }', (30, 80), cv2.FONT_HERSHEY_SIMPLEX, 0.6, (255, 255, 255), 2) \n",
    "        \n",
    "        if check == True:\n",
    "            cv2.imshow(\"movie\",frame)     \n",
    "            if DEBUG_MODE:\n",
    "                cv2.imshow('Threshold frame', threshold_frame)        \n",
    "            \n",
    "            if cv2.waitKey(1) & 0xFF == ord(\"q\"):\n",
    "                break\n",
    "                \n",
    "            if number_of_cars_increased:\n",
    "                time.sleep(2)\n",
    "        else:\n",
    "            break\n",
    "    \n",
    "    # After the loop release the video object\n",
    "    video.release()\n",
    "    \n",
    "    # Destroy all the windows\n",
    "    cv2.destroyAllWindows()\n",
    "    return number_of_cars_to_city_centre"
   ]
  },
  {
   "cell_type": "code",
   "execution_count": 11,
   "metadata": {},
   "outputs": [],
   "source": [
    "### run "
   ]
  },
  {
   "cell_type": "code",
   "execution_count": 12,
   "metadata": {},
   "outputs": [
    {
     "name": "stdout",
     "output_type": "stream",
     "text": [
      "6\n",
      "4\n"
     ]
    }
   ],
   "source": [
    "print(detect_Cars_from_Video('Traffic_Laramie_1.mp4'))\n",
    "print(detect_Cars_from_Video('Traffic_Laramie_2.mp4'))"
   ]
  }
 ],
 "metadata": {
  "kernelspec": {
   "display_name": "Python 3 (ipykernel)",
   "language": "python",
   "name": "python3"
  },
  "language_info": {
   "codemirror_mode": {
    "name": "ipython",
    "version": 3
   },
   "file_extension": ".py",
   "mimetype": "text/x-python",
   "name": "python",
   "nbconvert_exporter": "python",
   "pygments_lexer": "ipython3",
   "version": "3.10.10"
  }
 },
 "nbformat": 4,
 "nbformat_minor": 4
}
