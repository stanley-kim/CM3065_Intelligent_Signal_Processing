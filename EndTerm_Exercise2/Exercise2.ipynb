{
 "cells": [
  {
   "cell_type": "markdown",
   "metadata": {},
   "source": [
    "# Exercise 2"
   ]
  },
  {
   "cell_type": "markdown",
   "metadata": {},
   "source": [
    "## Import libraries\n",
    "- os, Counter, pickle are needed"
   ]
  },
  {
   "cell_type": "code",
   "execution_count": 1,
   "metadata": {},
   "outputs": [],
   "source": [
    "import os\n",
    "from collections import Counter\n",
    "import pickle"
   ]
  },
  {
   "cell_type": "markdown",
   "metadata": {},
   "source": [
    "## Setting global variables\n",
    "-  DEBUG_MODE variable is used to control verbosity\n",
    " - if this variable is set as True then the application print verbosly\n",
    " - else the application print silently\n",
    "- NUMBERS_TO_SHOW varaible is used for debugguing purpose\n",
    " - how many bytes to print for debugging purpose\n",
    "- g_Dirct_for_encoded_Str is used for further development feature\n",
    " - this variable stores maps between long string and short string to reduce encoded file size"
   ]
  },
  {
   "cell_type": "code",
   "execution_count": 2,
   "metadata": {},
   "outputs": [],
   "source": [
    "DEBUG_MODE = False\n",
    "NUMBERS_TO_SHOW = 20\n",
    "g_Dict_for_encoded_Str = {}"
   ]
  },
  {
   "cell_type": "markdown",
   "metadata": {},
   "source": [
    "## Function Definition: convert_Number_to_unary_format_Str\n",
    "- this function convert number to unary format string"
   ]
  },
  {
   "cell_type": "code",
   "execution_count": 3,
   "metadata": {},
   "outputs": [],
   "source": [
    "def convert_Number_to_unary_format_Str(q):\n",
    "    str = ['1' for _ in range(q) ]\n",
    "    str.append('0')\n",
    "    return \"\".join(str)"
   ]
  },
  {
   "cell_type": "markdown",
   "metadata": {},
   "source": [
    "## Function Definition: encode_Number_to_encoded_Str_Lists\n",
    "- this function convert number to rice encoded string list\n",
    " - input values are number to encode(S) and K\n",
    " - return value is rice encoded string list\n",
    "   - first element of list is unary formatted string of quotient\n",
    "   - second element of list is remainder"
   ]
  },
  {
   "cell_type": "code",
   "execution_count": 4,
   "metadata": {},
   "outputs": [],
   "source": [
    "def encode_Number_to_encoded_Str_List(S, K):\n",
    "    m = pow(2, K)\n",
    "    q = S // m\n",
    "    r = S % m\n",
    "\n",
    "    encoded_list = [ convert_Number_to_unary_format_Str(q), format(r, \"b\").zfill(K)]\n",
    "    #print('original: ' + format(S, \"b\")  +  ' encoded: ' + \"\".join(encoded_list))\n",
    "    return encoded_list"
   ]
  },
  {
   "cell_type": "markdown",
   "metadata": {},
   "source": [
    "## Function Definition: encode_Number_to_encoded_Str\n",
    "- this function covert number to encoded string\n",
    " - input values are number to encode (S) and K\n",
    " - return value is the rice encoded string"
   ]
  },
  {
   "cell_type": "code",
   "execution_count": 5,
   "metadata": {},
   "outputs": [],
   "source": [
    "def encode_Number_to_encoded_Str(S, K):\n",
    "    encoded_Str_List = encode_Number_to_encoded_Str_List(S, K)\n",
    "    encoded_Str = \"\".join(encoded_Str_List)\n",
    "    if encoded_Str in g_Dict_for_encoded_Str:\n",
    "        prev_encoded_Str = encoded_Str\n",
    "        encoded_Str = g_Dict_for_encoded_Str[prev_encoded_Str]\n",
    "        if DEBUG_MODE:\n",
    "            print('encoding in g_Dict')\n",
    "            print(f'{prev_encoded_Str} -> {encoded_Str}')\n",
    "    return encoded_Str"
   ]
  },
  {
   "cell_type": "markdown",
   "metadata": {},
   "source": [
    "## Function Definition: encode_Number_List_to_encoded_Str\n",
    "- this function covert the list of numbers to one rice encoded string\n",
    " - input values are the list of number to encode (S_List) and K\n",
    " - return value is the rice encoded string"
   ]
  },
  {
   "cell_type": "code",
   "execution_count": 6,
   "metadata": {},
   "outputs": [],
   "source": [
    "def encode_Number_List_to_encoded_Str(S_List, K):\n",
    "    encoded_List = []\n",
    "    for i, S in enumerate(S_List):\n",
    "        encoded_List.append(encode_Number_to_encoded_Str(S, K))\n",
    "        if DEBUG_MODE and i == 20:\n",
    "            print(encoded_List)\n",
    "    return \"\".join(encoded_List)"
   ]
  },
  {
   "cell_type": "markdown",
   "metadata": {},
   "source": [
    "## Function Definition: generate_Number_List_to_encoded_Str_Dict\n",
    "- this function generates encoded string dictionary for further development feature\n",
    " - input values are the list of number to encode (S_List) and K and use_STR_REPLACE (if further develipment is used, then use_STR_REPLACE value is set as True else use_STR_REPLACE is set as False)\n",
    " - no return value"
   ]
  },
  {
   "cell_type": "code",
   "execution_count": 7,
   "metadata": {},
   "outputs": [],
   "source": [
    "def generate_Number_List_to_encoded_Str_Dict(S_List, K, use_STR_REPLACE):\n",
    "\tglobal g_Dict_for_encoded_Str\n",
    "\tg_Dict_for_encoded_Str = {}\n",
    "\tencoded_List = []\n",
    "\n",
    "\tif not use_STR_REPLACE:\n",
    "\t\treturn\n",
    "\n",
    "\tfor i, S in enumerate(S_List):\n",
    "\t\tencoded_List.append(encode_Number_to_encoded_Str(S, K))\n",
    "\t\tif DEBUG_MODE and i == 20:\n",
    "\t\t\tprint(encoded_List)\n",
    "\tc = Counter(encoded_List)\n",
    "\tif DEBUG_MODE:\n",
    "\t\tprint(c)\n",
    "\t\tprint(\"-\"*30)\n",
    "\tlow_freq_short_len = []\n",
    "\tfor k in sorted(c.keys()):\n",
    "\t\telement = c[k]\n",
    "\t\tif element < 3000 and len(k) < 40 // K:\n",
    "\t\t\tif DEBUG_MODE:\n",
    "\t\t\t\tprint(f'{k}:{element}', end=\", \")\n",
    "\t\t\t\tprint(f'')\n",
    "\t\t\t\tprint(\"=\"*30)\n",
    "\n",
    "\t\t\tlow_freq_short_len.append(k)\n",
    "\thigh_freq_long_len = []\n",
    "\tfor k in sorted(c.keys(), reverse=True):\n",
    "\t\telement = c[k]\n",
    "\t\tif element > 10000 and len(k) > 40 // K:\n",
    "\t\t\tif DEBUG_MODE:\n",
    "\t\t\t\tprint(f'{k}::{element}', end=\", \")\n",
    "\t\t\t\tprint(f'')\n",
    "\t\t\t\tprint(\"-\"*30)\n",
    "\t\t\thigh_freq_long_len.append(k)\n",
    "\tfor short_Str, long_Str in zip(low_freq_short_len, high_freq_long_len):\n",
    "\t\tg_Dict_for_encoded_Str[short_Str] = long_Str\n",
    "\t\tg_Dict_for_encoded_Str[long_Str] = short_Str\n",
    "\t\t#print(f'{short_Str} {long_Str}')\n",
    "\n",
    "\tif DEBUG_MODE:\n",
    "\t\tprint('g_Dict_for_encoded_Str')\n",
    "\t\tprint(g_Dict_for_encoded_Str)\n",
    "\t\tprint(f'')"
   ]
  },
  {
   "cell_type": "code",
   "execution_count": 8,
   "metadata": {},
   "outputs": [],
   "source": [
    "def generate_Number_List_to_encoded_Str_Dict3(S_List, K, use_STR_REPLACE):\n",
    "    global g_Dict_for_encoded_Str\n",
    "    g_Dict_for_encoded_Str = {}\n",
    "    encoded_List = []\n",
    "\n",
    "    if not use_STR_REPLACE:\n",
    "        return\n",
    "\n",
    "    for i, S in enumerate(S_List):\n",
    "        encoded_List.append(encode_Number_to_encoded_Str(S, K))\n",
    "        if DEBUG_MODE and i == 20:\n",
    "            print(encoded_List)\n",
    "    c = Counter(encoded_List)\n",
    "    if DEBUG_MODE:\n",
    "        print(c)\n",
    "        print(\"-\"*30)\n",
    "    low_freq_short_len = []\n",
    "    for k in sorted(c.keys()):\n",
    "        element = c[k]\n",
    "        if element < 3000 and len(k) < 40 // K:\n",
    "            if DEBUG_MODE:\n",
    "                print(f'{k}:{element}', end=\", \")\n",
    "                print(f'')\n",
    "                print(\"=\"*30)\n",
    "\n",
    "        low_freq_short_len.append(k)\n",
    "    high_freq_long_len = []\n",
    "    for k in sorted(c.keys(), reverse=True):\n",
    "        element = c[k]\n",
    "        if element > 10000 and len(k) > 40 // K:\n",
    "            if DEBUG_MODE:\n",
    "                print(f'{k}::{element}', end=\", \")\n",
    "                print(f'')\n",
    "                print(\"-\"*30)\n",
    "            high_freq_long_len.append(k)\n",
    "    for short_Str, long_Str in zip(low_freq_short_len, high_freq_long_len):\n",
    "        g_Dict_for_encoded_Str[short_Str] = long_Str\n",
    "        g_Dict_for_encoded_Str[long_Str] = short_Str\n",
    "\n",
    "    if DEBUG_MODE:\n",
    "        print('g_Dict_for_encoded_Str')\n",
    "        print(g_Dict_for_encoded_Str)\n",
    "        print(f'')"
   ]
  },
  {
   "cell_type": "markdown",
   "metadata": {},
   "source": [
    "## Function Definition: encode_File_to_Unaligned_Str\n",
    "- this function converts file to rice encoded string\n",
    " - input value is filename, K, use_STR_REPLACE(whether to use further development or not)\n",
    " - return value is rice encoded string"
   ]
  },
  {
   "cell_type": "code",
   "execution_count": 9,
   "metadata": {},
   "outputs": [],
   "source": [
    "def encode_File_to_Unaligned_Str(filename, K, use_STR_REPLACE):\n",
    "    with open(filename, 'rb') as file:\n",
    "        byteBuffer = bytearray(file.read())\n",
    "    if DEBUG_MODE:\n",
    "        for i, byte in enumerate(byteBuffer):\n",
    "            if i < NUMBERS_TO_SHOW:\n",
    "                print(f'byte[{i}]: {byte}')\n",
    "        for i in range(NUMBERS_TO_SHOW):\n",
    "            print(f'byte[{i-NUMBERS_TO_SHOW}]: {byteBuffer[i-NUMBERS_TO_SHOW]}')\t\n",
    "\n",
    "    generate_Number_List_to_encoded_Str_Dict(byteBuffer, K, use_STR_REPLACE)\n",
    "    return encode_Number_List_to_encoded_Str(byteBuffer, K)"
   ]
  },
  {
   "cell_type": "markdown",
   "metadata": {},
   "source": [
    "## Function Definition: encode_File_to_File\n",
    "- this function convert wave file to rice encoded file\n",
    " - input values are source_filename, destination, K, use_STR_REPLACE(whether to use further development or not)\n",
    " - return value is boolean value (whether the encoding process was successed or not)"
   ]
  },
  {
   "cell_type": "code",
   "execution_count": 10,
   "metadata": {},
   "outputs": [],
   "source": [
    "def encode_File_to_File(source_filename, destination_filename, K, use_STR_REPLACE):\n",
    "    encoded_Str = encode_File_to_Unaligned_Str(source_filename, K, use_STR_REPLACE)\n",
    "    if not encoded_Str:\n",
    "        print(f'No encoded String')\n",
    "        return False\n",
    "    Len_Str = len(encoded_Str)\n",
    "    if Len_Str == 0:\n",
    "        print(f'No encoded String to decode')\n",
    "        return False\n",
    "    if DEBUG_MODE:\n",
    "        print(f'encoded_Str : {encoded_Str} / Length: {len(encoded_Str)}')\n",
    "\n",
    "    if Len_Str % 8 > 0:\n",
    "        new_Len\t= (Len_Str // 8 + 1) * 8\n",
    "        # 110001 (6) -> 1100 0100 (8)\n",
    "        encoded_Str = encoded_Str.ljust(new_Len, '1')\n",
    "        if DEBUG_MODE:\n",
    "            print(f'encoded_Str:: {encoded_Str} / Length: {len(encoded_Str)}')\n",
    "\n",
    "    encoded_Byte_List = []\n",
    "    for i in range(0, len(encoded_Str), 8):\n",
    "        Element_as_Str = encoded_Str[i:i+8]\n",
    "        Element_as_Byte = eval('0b' + encoded_Str[i:i+8])\n",
    "        encoded_Byte_List.append(Element_as_Byte)\n",
    "        if DEBUG_MODE:\n",
    "            print(f'{Element_as_Str} {Element_as_Byte} {format(Element_as_Byte, \"x\")}')\n",
    "    if DEBUG_MODE:\n",
    "        for byte in bytearray(encoded_Byte_List):\n",
    "            print(f'bytearray: {byte} {format(byte, \"x\")}')\t\n",
    "    if DEBUG_MODE:\n",
    "        print(f'encoded Binary List: {encoded_Byte_List}')\n",
    "        print(f'encoded Binary List: {bytearray(encoded_Byte_List)}')\n",
    "\n",
    "    with open(destination_filename, 'wb') as binary_file:\t\n",
    "        binary_file.write( bytearray(encoded_Byte_List) )\n",
    "    return True"
   ]
  },
  {
   "cell_type": "markdown",
   "metadata": {},
   "source": [
    "## Function Definition: decode_to_Byte_List2\n",
    "- this function convert encoded string into decoded byte list\n",
    " - input values are encoded string and K\n",
    " - return value is decoded byte list"
   ]
  },
  {
   "cell_type": "code",
   "execution_count": 11,
   "metadata": {},
   "outputs": [],
   "source": [
    "def decode_to_Byte_List2(encoded_str, K):\n",
    "    decoded_List = []\n",
    "    m = pow(2, K)\n",
    "    starting_index = 0\n",
    "    Len_Str = len(encoded_str)\n",
    "    while True:\n",
    "        if starting_index + 1 + K > Len_Str:\n",
    "            break\n",
    "        q = encoded_str.find('0', starting_index)\n",
    "        if q < 0:\n",
    "            break\n",
    "        r_str = encoded_str[q + 1: q + 1 + K]\n",
    "\n",
    "        if encoded_str[starting_index: q + 1 + K] in g_Dict_for_encoded_Str:\n",
    "            original_Str = encoded_str[starting_index: q + 1 + K]\n",
    "            new_Str = g_Dict_for_encoded_Str[original_Str]\n",
    "            if DEBUG_MODE and len(encoded_str[starting_index: q + 1 + K]) > 20:\n",
    "                print(f'decoding {encoded_str[starting_index: q + 1 + K]} =====> {new_Str}')\n",
    "            new_q = new_Str.find('0')\n",
    "            new_r_str = new_Str[new_q + 1:new_q + 1 + K]\t\n",
    "            new_r = eval('0b' + new_r_str)\n",
    "            decoded_List.append( (new_q - 0) * m + new_r)\n",
    "        else:\n",
    "            r = eval('0b' + r_str)\n",
    "            decoded_List.append( (q - starting_index) * m + r)\n",
    "\n",
    "        starting_index = q + 1 + K \n",
    "    return decoded_List"
   ]
  },
  {
   "cell_type": "markdown",
   "metadata": {},
   "source": [
    "## Function Definition: decode_File_to_File\n",
    "- this function decode encoded file into decoded file\n",
    " - input values are source_filename destination_filename and K\n",
    " - no return value"
   ]
  },
  {
   "cell_type": "code",
   "execution_count": 12,
   "metadata": {},
   "outputs": [],
   "source": [
    "def decode_File_to_File(source_filename, destination_filename, K):\n",
    "    m = pow(2, K)\n",
    "    with open(source_filename, 'rb') as file:\n",
    "        byteBuffer = bytearray(file.read())\n",
    "    if DEBUG_MODE:\n",
    "        print(\"reading finished\")\n",
    "    encoded_Str_List = [] \n",
    "    for i, byte in enumerate(byteBuffer):\n",
    "        if DEBUG_MODE:\n",
    "            print(f'decoded byte: {byte} {format(byte, \"x\")} {format(byte, \"b\")}')\n",
    "        encoded_Str_List.append(format(byte, \"b\").zfill(8))\n",
    "    encoded_Str_with_Zero_Padding = \"\".join(encoded_Str_List)\n",
    "\n",
    "    if DEBUG_MODE:\n",
    "        print(f'{encoded_Str_with_Zero_Padding}')\n",
    "\n",
    "    starting_index = 0\n",
    "    Len_Str_Original = len(encoded_Str_with_Zero_Padding)\n",
    "    while True:\n",
    "        Len_Str = Len_Str_Original - starting_index\n",
    "        if Len_Str == 0:\n",
    "            encoded_Str = encoded_Str_with_Zero_Padding\n",
    "            break\n",
    "        elif Len_Str <= K:\n",
    "            encoded_Str = encoded_Str_with_Zero_Padding[:starting_index]\n",
    "            break\n",
    "        q = encoded_Str_with_Zero_Padding.find('0', starting_index)\n",
    "        if q < 0:\n",
    "            encoded_Str = encoded_Str_with_Zero_Padding[:starting_index]\n",
    "            break\n",
    "        starting_index = q + 1 + K\n",
    "        #print(f'{starting_index}', end=\" \")\n",
    "\n",
    "    if DEBUG_MODE:\n",
    "        print(\"making String finished\")\n",
    "    Byte_List = decode_to_Byte_List2(encoded_Str, K)\n",
    "\n",
    "    if DEBUG_MODE:\n",
    "        print(f'{Byte_List[:NUMBERS_TO_SHOW]}')\n",
    "        print(f'{Byte_List[-NUMBERS_TO_SHOW:]}')\n",
    "\n",
    "    with open(destination_filename, 'wb') as binary_file:\n",
    "        binary_file.write( bytearray(Byte_List) )"
   ]
  },
  {
   "cell_type": "markdown",
   "metadata": {},
   "source": [
    "## Function Definition: compare_Binary_Files\n",
    "- this function compares two file and return whether they are same or not\n",
    " - input values are 2 files \n",
    " - return value is boolean whether they are same or not"
   ]
  },
  {
   "cell_type": "code",
   "execution_count": 13,
   "metadata": {},
   "outputs": [],
   "source": [
    "def compare_Binary_Files(filename0, filename1):\n",
    "    with open(filename0, 'rb') as file0:\n",
    "        byteArray0 = bytearray(file0.read())\n",
    "    with open(filename1, 'rb') as file1:\n",
    "        byteArray1 = bytearray(file1.read())\n",
    "    if len(byteArray0) != len(byteArray1):\n",
    "        print(f'two files are different {len(byteArray0)} {len(byteArray1)}')\n",
    "        return False\n",
    "    for byte0, byte1 in zip(byteArray0, byteArray1):\n",
    "        if byte0 != byte1:\n",
    "            print(f'two files are different {byte0} {byte1}')\n",
    "            return False\n",
    "    return True"
   ]
  },
  {
   "cell_type": "markdown",
   "metadata": {},
   "source": [
    "## Function Definition: generate_PKL_File\n",
    "- this function generates pickle file from dictionary g_Dict_for_encoded_Str\n",
    " - this function is used for further development feature\n",
    " - the input value is pickle file name\n",
    " - no return value"
   ]
  },
  {
   "cell_type": "code",
   "execution_count": 14,
   "metadata": {},
   "outputs": [],
   "source": [
    "def generate_PKL_File(PKL_FILENAME):\n",
    "    with open(pkl_filename, 'wb') as fp:\n",
    "        pickle.dump(g_Dict_for_encoded_Str, fp)\n",
    "    print(f'{original_wav_filename}, {K} pickle data {os.path.getsize(pkl_filename)}')"
   ]
  },
  {
   "cell_type": "markdown",
   "metadata": {},
   "source": [
    "## Function Definition: retrieve_from_PKL_File\n",
    "- this function retrive dictionary g_Dict_for_encoded_Str from pickle file\n",
    " - input value is pickle file name\n",
    " - no return value"
   ]
  },
  {
   "cell_type": "code",
   "execution_count": 15,
   "metadata": {},
   "outputs": [],
   "source": [
    "def retrieve_from_PKL_File(PKL_FILENAME):\n",
    "    global g_Dict_for_encoded_Str\n",
    "    with open(PKL_FILENAME, 'rb') as fp:\n",
    "        g_Dict_for_encoded_Str = pickle.load(fp) "
   ]
  },
  {
   "cell_type": "markdown",
   "metadata": {},
   "source": [
    "## encode and decode\n",
    "- for (files(Sound1.wav, Sound2.wav), K=(4, 2), use further development (False, True))\n",
    " - encode \n",
    " - decode \n",
    " - and calculate compression rate"
   ]
  },
  {
   "cell_type": "code",
   "execution_count": 16,
   "metadata": {},
   "outputs": [
    {
     "name": "stdout",
     "output_type": "stream",
     "text": [
      "end Encoding 4 False: Sound1.wav 1002088-> Sound1_Enc.ex2 1516265\n",
      "end Decoding\n",
      "same files Sound1.wav Sound1_EncDec.wav\n",
      "Sound1.wav, 4 pickle data 272\n",
      "end Encoding 4 True: Sound1.wav 1002088-> Sound1_Enc.ex2 1080312\n",
      "end Decoding\n",
      "same files Sound1.wav Sound1_EncDec.wav\n",
      "compression_rate: -51.31056354332154%->-7.83324418613934% [1002088, 1516265, 1080584]\n",
      "end Encoding 2 False: Sound1.wav 1002088-> Sound1_Enc.ex2 4115718\n",
      "end Decoding\n",
      "same files Sound1.wav Sound1_EncDec.wav\n",
      "Sound1.wav, 2 pickle data 556\n",
      "end Encoding 2 True: Sound1.wav 1002088-> Sound1_Enc.ex2 2288790\n",
      "end Decoding\n",
      "same files Sound1.wav Sound1_EncDec.wav\n",
      "compression_rate: -310.7142286904943%->-128.45758057176616% [1002088, 4115718, 2289346]\n",
      "end Encoding 4 False: Sound2.wav 1008044-> Sound2_Enc.ex2 1575347\n",
      "end Decoding\n",
      "same files Sound2.wav Sound2_EncDec.wav\n",
      "Sound2.wav, 4 pickle data 422\n",
      "end Encoding 4 True: Sound2.wav 1008044-> Sound2_Enc.ex2 1429206\n",
      "end Decoding\n",
      "same files Sound2.wav Sound2_EncDec.wav\n",
      "compression_rate: -56.27760296177547%->-41.82198396101757% [1008044, 1575347, 1429628]\n",
      "end Encoding 2 False: Sound2.wav 1008044-> Sound2_Enc.ex2 4348595\n",
      "end Decoding\n",
      "same files Sound2.wav Sound2_EncDec.wav\n",
      "Sound2.wav, 2 pickle data 903\n",
      "end Encoding 2 True: Sound2.wav 1008044-> Sound2_Enc.ex2 3746243\n",
      "end Decoding\n",
      "same files Sound2.wav Sound2_EncDec.wav\n",
      "compression_rate: -331.38940363714283%->-271.7244485359766% [1008044, 4348595, 3747146]\n"
     ]
    }
   ],
   "source": [
    "for original_wav_filename in ['Sound1.wav', 'Sound2.wav']:\n",
    "#for original_wav_filename in ['Sound1.wav']:\n",
    "    for K in [4, 2]:\n",
    "    #for K in [2]:\n",
    "        encoded_filesize_list = []\n",
    "        for use_STR_REPLACE in [False, True]:\n",
    "            encoded_filename = original_wav_filename.split('.')[0] + '_Enc' + '.ex2'\n",
    "            decoded_filename = original_wav_filename.split('.')[0] + '_EncDec' + '.wav' \n",
    "\n",
    "            encode_File_to_File(original_wav_filename, encoded_filename, K, use_STR_REPLACE)\n",
    "            if use_STR_REPLACE:\n",
    "                pkl_filename = 'data.pkl'\n",
    "                generate_PKL_File(pkl_filename)\n",
    "\n",
    "            original_wav_filesize = os.path.getsize(original_wav_filename)\n",
    "            encoded_file_filesize = os.path.getsize(encoded_filename)\n",
    "            if not use_STR_REPLACE:\n",
    "                encoded_filesize_list.append(original_wav_filesize)\n",
    "            encoded_filesize_list.append(encoded_file_filesize + (os.path.getsize(pkl_filename) if use_STR_REPLACE else 0))\n",
    "            print(f'end Encoding {K} {use_STR_REPLACE}: {original_wav_filename} {original_wav_filesize}-> {encoded_filename} {encoded_file_filesize}')\n",
    "            if use_STR_REPLACE:\n",
    "                retrieve_from_PKL_File(pkl_filename)\n",
    "            decode_File_to_File(encoded_filename, decoded_filename, K)\n",
    "            print('end Decoding')\n",
    "\n",
    "            if compare_Binary_Files(original_wav_filename, decoded_filename):\n",
    "                print(f'same files {original_wav_filename} {decoded_filename}')\n",
    "            else:\n",
    "                print(f'different files {original_wav_filename} {decoded_filename}')\n",
    "\n",
    "        Filesize_original, Filesize_without_Replace, Filesize_with_Replace = encoded_filesize_list\n",
    "        compression_rate = (Filesize_original - Filesize_without_Replace)/Filesize_original*100\n",
    "        new_compression_rate = (Filesize_original - Filesize_with_Replace)/Filesize_original*100\n",
    "        print(f'compression_rate: {compression_rate}%->{new_compression_rate}% {encoded_filesize_list}')"
   ]
  },
  {
   "cell_type": "code",
   "execution_count": null,
   "metadata": {},
   "outputs": [],
   "source": []
  }
 ],
 "metadata": {
  "kernelspec": {
   "display_name": "Python 3",
   "language": "python",
   "name": "python3"
  },
  "language_info": {
   "codemirror_mode": {
    "name": "ipython",
    "version": 3
   },
   "file_extension": ".py",
   "mimetype": "text/x-python",
   "name": "python",
   "nbconvert_exporter": "python",
   "pygments_lexer": "ipython3",
   "version": "3.7.6"
  }
 },
 "nbformat": 4,
 "nbformat_minor": 4
}
