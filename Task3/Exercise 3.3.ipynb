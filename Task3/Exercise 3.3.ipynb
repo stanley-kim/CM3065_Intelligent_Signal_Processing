{
 "cells": [
  {
   "cell_type": "markdown",
   "metadata": {},
   "source": [
    "# Task3 LSB Audio Steganography "
   ]
  },
  {
   "cell_type": "markdown",
   "metadata": {},
   "source": [
    "## 1. import library"
   ]
  },
  {
   "cell_type": "code",
   "execution_count": 1,
   "metadata": {},
   "outputs": [],
   "source": [
    "import wave"
   ]
  },
  {
   "cell_type": "markdown",
   "metadata": {},
   "source": [
    "## 2.define convert_Str_to_Bits Function\n",
    "this function convert one string into bit information<br>\n",
    "input parameter is one string<br>\n",
    "return value is integer bytes list"
   ]
  },
  {
   "cell_type": "code",
   "execution_count": 2,
   "metadata": {},
   "outputs": [],
   "source": [
    "def convert_Str_to_Bits(MESSAGE):\n",
    "    return map(int, \"\".join([bin(ord(chr))[2:].rjust(8,'0') for chr in MESSAGE + '#']))"
   ]
  },
  {
   "cell_type": "markdown",
   "metadata": {},
   "source": [
    "## 3.define Function\n",
    "this function merge music bytes with LSB bits<br>\n",
    "input paramters are music frame bytes and lsb bits<br>\n",
    "return value is merged bytes list"
   ]
  },
  {
   "cell_type": "code",
   "execution_count": 3,
   "metadata": {},
   "outputs": [],
   "source": [
    "def merge_Frames_and_LSBs(frame_bytes, bits):\n",
    "    return bytes((0xFE & frame) + (0x1 & bit) for frame, bit in zip(frame_bytes, bits))"
   ]
  },
  {
   "cell_type": "markdown",
   "metadata": {},
   "source": [
    "## 4. define encode_File function\n",
    "this function merge music file and message into one steganography file.<br>\n",
    "input parameter is music filename and message string and new filename<br>\n",
    "there is no return value"
   ]
  },
  {
   "cell_type": "code",
   "execution_count": 4,
   "metadata": {},
   "outputs": [],
   "source": [
    "def encode_File(FILENAME, MESSAGE, NEW_FILENAME):\n",
    "    with wave.open(FILENAME, mode='rb') as music:        \n",
    "        frame_bytes = bytes(music.readframes(music.getnframes()))        \n",
    "        music_params = music.getparams()\n",
    "\n",
    "    bits = convert_Str_to_Bits(MESSAGE)\n",
    "    new_frame_bytes = merge_Frames_and_LSBs(frame_bytes, bits)\n",
    "\n",
    "    with wave.open(NEW_FILENAME, 'wb') as music:\n",
    "        music.setparams(music_params)\n",
    "        music.writeframes(new_frame_bytes)"
   ]
  },
  {
   "cell_type": "markdown",
   "metadata": {},
   "source": [
    "## 5. define decode_File function (same as Exercise3 Task1)\n",
    "this function<br>\n",
    "5.1. extract LSBs from file<br>\n",
    "5.2. convert LSBs to Characters List<br>\n",
    "5.3. join Characters List to make one message<br>\n",
    "input parameter is filename<br>\n",
    "return value is one string"
   ]
  },
  {
   "cell_type": "code",
   "execution_count": 5,
   "metadata": {},
   "outputs": [],
   "source": [
    "def extract_LSB_from_File(FILENAME):\n",
    "    with wave.open(FILENAME, mode='rb') as music:        \n",
    "        frame_bytes = bytes(music.readframes(music.getnframes()))    \n",
    "    return [frame_byte & 0x1 for frame_byte in frame_bytes]  \n",
    "def merge_8Bits_to_Char(BYTES8):\n",
    "    return chr(eval('0b' + \"\".join(map(str, BYTES8))))  \n",
    "def convert_LSB_Bytes_to_Chars(LSB_BYTES):\n",
    "    chars = []\n",
    "    for bits8 in [LSB_BYTES[i: i+ 8] for i in range(0, len(LSB_BYTES), 8)]:\n",
    "        each_char = merge_8Bits_to_Char(bits8)\n",
    "        if each_char != '#':\n",
    "            chars.append(each_char)\n",
    "        else:\n",
    "            break\n",
    "    return chars\n",
    "def decode_File(FILENAME):    \n",
    "    bytes_extracted = extract_LSB_from_File(FILENAME)\n",
    "    chars_extracted = convert_LSB_Bytes_to_Chars(bytes_extracted)    \n",
    "    return \"\".join(chars_extracted)"
   ]
  },
  {
   "cell_type": "markdown",
   "metadata": {},
   "source": [
    "## 6. to embed hidden messages\n",
    "6.1 embed hidden messages using encode_File function<br>\n",
    "6.2 print hidden messages using decode_File function"
   ]
  },
  {
   "cell_type": "code",
   "execution_count": 6,
   "metadata": {},
   "outputs": [
    {
     "name": "stdout",
     "output_type": "stream",
     "text": [
      "hidden message (Father Christmas does not exist)\n"
     ]
    }
   ],
   "source": [
    "SECRET_MESSAGE = 'Father Christmas does not exist'\n",
    "SOURCE_FILE = \"Ex3_sound5.wav\"\n",
    "MODIFIED_FILE = \"modified_\" + SOURCE_FILE\n",
    "encode_File(SOURCE_FILE, SECRET_MESSAGE, MODIFIED_FILE)\n",
    "decoded = decode_File(MODIFIED_FILE)\n",
    "\n",
    "print(f'hidden message ({decoded})')"
   ]
  }
 ],
 "metadata": {
  "kernelspec": {
   "display_name": "Python 3",
   "language": "python",
   "name": "python3"
  },
  "language_info": {
   "codemirror_mode": {
    "name": "ipython",
    "version": 3
   },
   "file_extension": ".py",
   "mimetype": "text/x-python",
   "name": "python",
   "nbconvert_exporter": "python",
   "pygments_lexer": "ipython3",
   "version": "3.7.6"
  }
 },
 "nbformat": 4,
 "nbformat_minor": 4
}
