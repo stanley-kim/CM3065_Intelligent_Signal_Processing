{
 "cells": [
  {
   "cell_type": "markdown",
   "metadata": {},
   "source": [
    "#  Exercise 3"
   ]
  },
  {
   "cell_type": "markdown",
   "metadata": {},
   "source": [
    "## Installing ffmpeg and ffprobe\n",
    "- ffmpeg and ffprrobe were already installed before implementing exercise 3.\n",
    "- if they are not installed, then they have to be installed by utilities (curl, tar)\n",
    " -  below code are from exercise19 (week19)"
   ]
  },
  {
   "cell_type": "code",
   "execution_count": 1,
   "metadata": {},
   "outputs": [
    {
     "name": "stdout",
     "output_type": "stream",
     "text": [
      "ffmpeg: already installed\n",
      "/usr/bin/ffmpeg\n"
     ]
    }
   ],
   "source": [
    "# Download latest FFmpeg static build.  \n",
    "exist = !which ffmpeg\n",
    "if not exist:\n",
    "  !curl https://johnvansickle.com/ffmpeg/releases/ffmpeg-release-amd64-static.tar.xz -o ffmpeg.tar.xz \\\n",
    "     && tar -xf ffmpeg.tar.xz && rm ffmpeg.tar.xz\n",
    "  ffmdir = !find . -iname ffmpeg-*-static\n",
    "  path = %env PATH\n",
    "  path = path + ':' + ffmdir[0]\n",
    "  %env PATH $path\n",
    "else:\n",
    "    print('ffmpeg: already installed')\n",
    "!which ffmpeg"
   ]
  },
  {
   "cell_type": "markdown",
   "metadata": {},
   "source": [
    "## Importing modules\n",
    "- os.path module is needed"
   ]
  },
  {
   "cell_type": "code",
   "execution_count": 2,
   "metadata": {},
   "outputs": [],
   "source": [
    "import os.path"
   ]
  },
  {
   "cell_type": "markdown",
   "metadata": {},
   "source": [
    "## Setting DEBUG_MODE variable\n",
    "-  DEBUG_MODE variable is used to control verbosity\n",
    " - if this variable is set as True then the application print verbosly\n",
    " - else the application print silently"
   ]
  },
  {
   "cell_type": "code",
   "execution_count": 3,
   "metadata": {},
   "outputs": [],
   "source": [
    "DEBUG_MODE = False"
   ]
  },
  {
   "cell_type": "markdown",
   "metadata": {},
   "source": [
    "## Function Definition: get_Movie_information\n",
    "-  this function returns digital fields of an input movie file\n",
    " - input: path of a movie file\n",
    " - output: list of the digital fields (e.g. video codec, audio codecc)"
   ]
  },
  {
   "cell_type": "code",
   "execution_count": 4,
   "metadata": {},
   "outputs": [],
   "source": [
    "def get_Movie_Information(movie_path):\n",
    "    ret_value = []    \n",
    "    video_container = movie_path[movie_path.rfind('.') + 1:] \n",
    "    video_codec     = !ffprobe -v error -select_streams v -show_entries stream=codec_name -of csv=p=0:s=x  {movie_path}\n",
    "    audio_codec     = !ffprobe -v error -select_streams a -show_entries stream=codec_name -of csv=p=0:s=x  {movie_path}\n",
    "    frame_rate      = !ffprobe -v 0 -of csv=p=0 -select_streams v:0 -show_entries stream=r_frame_rate {movie_path}\n",
    "    aspect_ratio    = !ffprobe -v error -select_streams v:0 -show_entries stream=display_aspect_ratio -of default=noprint_wrappers=1:nokey=1 {movie_path}\n",
    "    resolution      = !ffprobe -v error -select_streams v:0 -show_entries stream=width,height -of default=nw=1 {movie_path}\n",
    "    video_bit_rate  = !ffprobe -v quiet -select_streams v:0 -show_entries stream=bit_rate -of default=noprint_wrappers=1 {movie_path}  \n",
    "    audio_bit_rate  = !ffprobe -v quiet -select_streams a:0 -show_entries stream=bit_rate -of default=noprint_wrappers=1 {movie_path}  \n",
    "    audio_channels  = !ffprobe -show_entries stream=channels -select_streams a:0 -of compact=p=0:nk=1 -v 0  -i  {movie_path}\n",
    "    ret_value.append(video_container)\n",
    "    ret_value.append(video_codec[0])\n",
    "    ret_value.append(audio_codec[0])\n",
    "    if DEBUG_MODE:\n",
    "        print('frame_rate->' + str(frame_rate))\n",
    "    ret_value.append(eval(frame_rate[0]))\n",
    "    resolution_to_aspect_ratio = {\n",
    "        '628x354': '314:177',\n",
    "        '640x360': '16:9',\n",
    "        '720x404': '180:101'\n",
    "    }\n",
    "    str_resolution = resolution[0].split('=')[1] + 'x' +resolution[1].split('=')[1]\n",
    "    aspect_ratio = resolution_to_aspect_ratio[ str_resolution ] \n",
    "    ret_value.append(aspect_ratio)\n",
    "    ret_value.append(str_resolution)\n",
    "    ret_value.append(eval(video_bit_rate[0][9:])/pow(10, 6))\n",
    "    ret_value.append(eval(audio_bit_rate[0][9:])/pow(10, 3))\n",
    "    ret_value.append('stereo' if audio_channels[0] == '2' else 'mono')\n",
    "    return ret_value"
   ]
  },
  {
   "cell_type": "markdown",
   "metadata": {},
   "source": [
    "## Function Definition: get_required_Movie_Information\n",
    "-  this function returns the required digital fields of the narbonne film festival\n",
    " - no input\n",
    " - output: the list of the required digital fields (e.g. video codec, audio codecc)"
   ]
  },
  {
   "cell_type": "code",
   "execution_count": 5,
   "metadata": {},
   "outputs": [],
   "source": [
    "def get_required_Movie_Information():\n",
    "    ret_value = []\n",
    "    required_video_format = 'mp4'\n",
    "    required_video_codec = 'h264'\n",
    "    required_audio_codec = 'aac'\n",
    "    required_frame_rate = 25.0\n",
    "    required_aspect_ratio = '16:9'  \n",
    "    required_resolution = '640x360'\n",
    "    required_min_video_bit_rate_Mbs = 2\n",
    "    required_max_video_bit_rate_Mbs = 5    \n",
    "    required_max_audio_bit_rate_Kbs = 256\n",
    "    required_audio_channels = 'stereo'   \n",
    "    \n",
    "    ret_value.append(required_video_format)\n",
    "    ret_value.append(required_video_codec)\n",
    "    ret_value.append(required_audio_codec)\n",
    "    ret_value.append(required_frame_rate)\n",
    "    ret_value.append(required_aspect_ratio)\n",
    "    ret_value.append(required_resolution)\n",
    "    ret_value.append([required_min_video_bit_rate_Mbs, required_max_video_bit_rate_Mbs])\n",
    "    ret_value.append([0, required_max_audio_bit_rate_Kbs])\n",
    "    ret_value.append(required_audio_channels)\n",
    "    return ret_value"
   ]
  },
  {
   "cell_type": "markdown",
   "metadata": {},
   "source": [
    "## Function Definition: compare_Movie_Information\n",
    "-  this function returns the result of comparison of two movie information\n",
    " - input: two lists of movie information. usually one is a submitted films' fields, the other is the required fields\n",
    " - output: the list of the result of comparing (e.g. if their video formats are same, then the first list element is True )"
   ]
  },
  {
   "cell_type": "code",
   "execution_count": 6,
   "metadata": {},
   "outputs": [],
   "source": [
    "\n",
    "def compare_Movie_Information(info_movie, info_required):\n",
    "    index_video_format = 0\n",
    "    index_video_codec = 1\n",
    "    index_audio_codec = 2\n",
    "    index_frame_rate = 3\n",
    "    index_aspect_ratio = 4\n",
    "    index_resolution = 5\n",
    "    index_video_bit_rate = 6\n",
    "    index_audio_bit_rate = 7\n",
    "    index_audio_channels = 8\n",
    "    ret_value = []\n",
    "    ret_value.append(True if info_movie[index_video_format] == info_required[index_video_format] else False)\n",
    "    ret_value.append(True if info_movie[index_video_codec] == info_required[index_video_codec] else False)\n",
    "    ret_value.append(True if info_movie[index_audio_codec] == info_required[index_audio_codec] else False)\n",
    "    ret_value.append(True if info_movie[index_frame_rate] == info_required[index_frame_rate] else False)\n",
    "    ret_value.append(True if info_movie[index_aspect_ratio] == info_required[index_aspect_ratio] else False)\n",
    "    ret_value.append(True if info_movie[index_resolution] == info_required[index_resolution] else False)\n",
    "    ret_value.append(True if info_required[index_video_bit_rate][0] < info_movie[index_video_bit_rate] < info_required[index_video_bit_rate][1] else False)\n",
    "    ret_value.append(True if info_required[index_audio_bit_rate][0] < info_movie[index_audio_bit_rate] < info_required[index_audio_bit_rate][1] else False)\n",
    "    ret_value.append(True if info_movie[index_audio_channels] == info_required[index_audio_channels] else False)\n",
    "    return ret_value"
   ]
  },
  {
   "cell_type": "markdown",
   "metadata": {},
   "source": [
    "## Function Definition: get_converted_Movie\n",
    "-  this function converts input movie as required\n",
    " - input: the path of the submitted movie file\n",
    " - output: the path of the converted movie file (e.g. osmos_War_of_the_Planets_formatOK.mp4)"
   ]
  },
  {
   "cell_type": "code",
   "execution_count": 7,
   "metadata": {},
   "outputs": [],
   "source": [
    "def get_converted_Movie(movie_path):\n",
    "    info_required = get_required_Movie_Information()\n",
    "    info_movie = get_Movie_Information(movie_path)\n",
    "    info_compared = compare_Movie_Information(info_movie, info_required)\n",
    "\n",
    "    index_frame_rate, index_resolution, index_video_bit_rate, index_audio_bit_rate = [3, 5, 6, 7]\n",
    "    \n",
    "    same_resolution = True if info_compared[index_resolution] else False\n",
    "    \n",
    "    if not same_resolution:\n",
    "        output_path_intermediate = movie_path[:movie_path.rfind('.')] + ('_im' if info_compared[0] else '') + '.mp4'       \n",
    "        res = !ffmpeg -hide_banner -loglevel error -y -i {movie_path} -vf scale=640:360 {output_path_intermediate}\n",
    "                \n",
    "    info_movie = get_Movie_Information(movie_path if same_resolution else output_path_intermediate)            \n",
    "    info_compared = compare_Movie_Information(info_movie, info_required)    \n",
    "#    output_path = movie_path[:movie_path.rfind('.')] + ('_formatOK' if info_compared[0] else '') + '.mp4'   \n",
    "    output_path = movie_path[:movie_path.rfind('.')] + '_formatOK' + '.mp4'   \n",
    "    \n",
    "    fps_parameter = '' if info_compared[index_frame_rate] else '-filter:v fps=25'\n",
    "    video_bit_rate_parameter = '' if info_compared[index_video_bit_rate] else '-b:v 3M'\n",
    "    audio_bit_rate_parameter = '' if info_compared[index_audio_bit_rate] else '-b:a 256k'\n",
    "    \n",
    "    input_path = movie_path if same_resolution else output_path_intermediate\n",
    "    if DEBUG_MODE:\n",
    "        print(f'output_path: {output_path}')\n",
    "    res = !ffmpeg -hide_banner  -loglevel error  -y  -i {input_path} {fps_parameter}  {video_bit_rate_parameter} {audio_bit_rate_parameter} {output_path}\n",
    "\n",
    "    if not same_resolution:\n",
    "        !rm {output_path_intermediate}\n",
    "\n",
    "    return output_path"
   ]
  },
  {
   "cell_type": "markdown",
   "metadata": {},
   "source": [
    "## Function Definition: print_compared_Info\n",
    "-  this function returns the formatted result of comparison of two movies\n",
    " - input: two lists of two movies, the (unformatted) result comparison of two movies  \n",
    " - output: the formatted result of comparison (string) "
   ]
  },
  {
   "cell_type": "code",
   "execution_count": 8,
   "metadata": {},
   "outputs": [],
   "source": [
    "def print_compared_Info(info_movie, info_required, info_compared):    \n",
    "    str_items = [\n",
    "        'video_format', \n",
    "        'video_codec', \n",
    "        'audio_codec', \n",
    "        'frame_rate', \n",
    "        'aspect_ratio', \n",
    "        'resolution', \n",
    "        'video_bit_rate(Mb/s)', \n",
    "        'audio_bit_rate(Kb/s)',\n",
    "        'audio_channels'\n",
    "    ]\n",
    "    ret_value = \"\"\n",
    "    for item, movie, required, compared in zip(str_items, info_movie, info_required, info_compared):\n",
    "        str_value = f'{item}: {movie} {\"=> satisfied\" if compared else \"===> not satisfied\"}' \n",
    "        ret_value = ret_value + str_value + '\\n'\n",
    "    ret_value = ret_value + '-' * 20 + '\\n'\n",
    "    return ret_value"
   ]
  },
  {
   "cell_type": "markdown",
   "metadata": {},
   "source": [
    "## Function Definition: generate_Report_Text_File\n",
    "-  this function generates the formatted result of comparison of two movies\n",
    " - input: the file name of report, the list of files to be analyzed     \n",
    " - no return value "
   ]
  },
  {
   "cell_type": "code",
   "execution_count": 9,
   "metadata": {},
   "outputs": [],
   "source": [
    "def generate_Report_Text_File(REPORT_FILE_NAME, original_File_Paths):\n",
    "    info_required = get_required_Movie_Information()\n",
    "    str_value = \"\"   \n",
    "    for original_File_Path in original_File_Paths:\n",
    "        info_movie = get_Movie_Information(original_File_Path)\n",
    "        str_value = str_value + 'File Name: '+ original_File_Path + '\\n'\n",
    "        info_compared = compare_Movie_Information(info_movie, info_required)\n",
    "        str_value = str_value + print_compared_Info(info_movie, info_required, info_compared)\n",
    "\n",
    "    with open(REPORT_FILE_NAME, 'w') as file:\n",
    "        file.write(str_value)   "
   ]
  },
  {
   "cell_type": "markdown",
   "metadata": {},
   "source": [
    "## The Exercise3 Requirement 0: Generating the Report File \n",
    "-  the report file name is 'report.txt'\n",
    " - this report file is generated by calling generate_Report_Text_File function\n",
    " - Cosmos_War_of_the_Planets.mp4: frame rate, aspect ratio, resolution, audio bit rate ==> not satisfied\n",
    " - The_Hill_Gang_Rides_Again.mp4: video bit rate, audio bit rate ==> not satisfied\n",
    " - Voyage_to_the_Planet_of_Prehistoric_Women.mp4: video codec, audio codec, frame rate, video bit rate, audio bit rate ==> not satisfied\n",
    " - Last_man_on_earth_1964.mov: video format, video codec, audio codec, frame rate, video bit rate, audio bit rate ==> not satisfied \n",
    " - The_Gun_and_the_Pulpit.avi: video format, video codec, audio codec, aspect ratio, resolution, video bit rate, audio bit rate ==> not satisfied"
   ]
  },
  {
   "cell_type": "code",
   "execution_count": 10,
   "metadata": {},
   "outputs": [
    {
     "name": "stdout",
     "output_type": "stream",
     "text": [
      "File Name: ./original_videos/Cosmos_War_of_the_Planets.mp4\r\n",
      "video_format: mp4 => satisfied\r\n",
      "video_codec: h264 => satisfied\r\n",
      "audio_codec: aac => satisfied\r\n",
      "frame_rate: 29.97002997002997 ===> not satisfied\r\n",
      "aspect_ratio: 314:177 ===> not satisfied\r\n",
      "resolution: 628x354 ===> not satisfied\r\n",
      "video_bit_rate(Mb/s): 2.989377 => satisfied\r\n",
      "audio_bit_rate(Kb/s): 317.103 ===> not satisfied\r\n",
      "audio_channels: stereo => satisfied\r\n",
      "--------------------\r\n",
      "File Name: ./original_videos/The_Hill_Gang_Rides_Again.mp4\r\n",
      "video_format: mp4 => satisfied\r\n",
      "video_codec: h264 => satisfied\r\n",
      "audio_codec: aac => satisfied\r\n",
      "frame_rate: 25.0 => satisfied\r\n",
      "aspect_ratio: 16:9 => satisfied\r\n",
      "resolution: 640x360 => satisfied\r\n",
      "video_bit_rate(Mb/s): 7.53773 ===> not satisfied\r\n",
      "audio_bit_rate(Kb/s): 253.272 => satisfied\r\n",
      "audio_channels: stereo => satisfied\r\n",
      "--------------------\r\n",
      "File Name: ./original_videos/Voyage_to_the_Planet_of_Prehistoric_Women.mp4\r\n",
      "video_format: mp4 => satisfied\r\n",
      "video_codec: hevc ===> not satisfied\r\n",
      "audio_codec: mp3 ===> not satisfied\r\n",
      "frame_rate: 29.97002997002997 ===> not satisfied\r\n",
      "aspect_ratio: 16:9 => satisfied\r\n",
      "resolution: 640x360 => satisfied\r\n",
      "video_bit_rate(Mb/s): 8.038857 ===> not satisfied\r\n",
      "audio_bit_rate(Kb/s): 320.0 ===> not satisfied\r\n",
      "audio_channels: stereo => satisfied\r\n",
      "--------------------\r\n",
      "File Name: ./original_videos/Last_man_on_earth_1964.mov\r\n",
      "video_format: mov ===> not satisfied\r\n",
      "video_codec: prores ===> not satisfied\r\n",
      "audio_codec: pcm_s16le ===> not satisfied\r\n",
      "frame_rate: 23.976023976023978 ===> not satisfied\r\n",
      "aspect_ratio: 16:9 => satisfied\r\n",
      "resolution: 640x360 => satisfied\r\n",
      "video_bit_rate(Mb/s): 9.285191 ===> not satisfied\r\n",
      "audio_bit_rate(Kb/s): 1536.0 ===> not satisfied\r\n",
      "audio_channels: stereo => satisfied\r\n",
      "--------------------\r\n",
      "File Name: ./original_videos/The_Gun_and_the_Pulpit.avi\r\n",
      "video_format: avi ===> not satisfied\r\n",
      "video_codec: rawvideo ===> not satisfied\r\n",
      "audio_codec: pcm_s16le ===> not satisfied\r\n",
      "frame_rate: 25.0 => satisfied\r\n",
      "aspect_ratio: 180:101 ===> not satisfied\r\n",
      "resolution: 720x404 ===> not satisfied\r\n",
      "video_bit_rate(Mb/s): 87.438878 ===> not satisfied\r\n",
      "audio_bit_rate(Kb/s): 1536.0 ===> not satisfied\r\n",
      "audio_channels: stereo => satisfied\r\n",
      "--------------------\r\n"
     ]
    }
   ],
   "source": [
    "REPORT_FILE_NAME = 'report.txt'\n",
    "ORIGINAL_FILE_PATHS = [\n",
    "    './original_videos/Cosmos_War_of_the_Planets.mp4',\n",
    "    './original_videos/The_Hill_Gang_Rides_Again.mp4',\n",
    "    './original_videos/Voyage_to_the_Planet_of_Prehistoric_Women.mp4',\n",
    "    './original_videos/Last_man_on_earth_1964.mov',\n",
    "    './original_videos/The_Gun_and_the_Pulpit.avi'    \n",
    "]    \n",
    "generate_Report_Text_File(REPORT_FILE_NAME, ORIGINAL_FILE_PATHS)\n",
    "! cat {REPORT_FILE_NAME}"
   ]
  },
  {
   "cell_type": "markdown",
   "metadata": {},
   "source": [
    "## Function Definition: generate_Movie_File\n",
    "-  this function generates the converted movie files as required \n",
    " - input: the list of files to be converted \n",
    " - no return value "
   ]
  },
  {
   "cell_type": "code",
   "execution_count": 11,
   "metadata": {},
   "outputs": [],
   "source": [
    "def generate_Movie_File(original_File_Paths):\n",
    "    info_required = get_required_Movie_Information()\n",
    "    #str_value = \"\"   \n",
    "    for original_File_Path in original_File_Paths:\n",
    "        info_movie = get_Movie_Information(original_File_Path)\n",
    "\n",
    "        info_compared = compare_Movie_Information(info_movie, info_required)\n",
    "        if not all(info_compared):\n",
    "            encoded_File_Path = get_converted_Movie(original_File_Path)     \n",
    "            info_movie = get_Movie_Information(encoded_File_Path)\n",
    "            info_compared = compare_Movie_Information(info_movie, info_required)        \n",
    "            print(f'{original_File_Path} -> {encoded_File_Path}')\n",
    "            \n",
    "            if all(info_compared):\n",
    "                print('now all True')\n",
    "            else:\n",
    "                print('still not all True')  "
   ]
  },
  {
   "cell_type": "markdown",
   "metadata": {},
   "source": [
    "## The Exercise3 Requirement 1: Generating the converted Movie Files \n",
    "-  generating new movie files which are converted as required"
   ]
  },
  {
   "cell_type": "code",
   "execution_count": 12,
   "metadata": {},
   "outputs": [
    {
     "name": "stdout",
     "output_type": "stream",
     "text": [
      "./original_videos/Cosmos_War_of_the_Planets.mp4 -> ./original_videos/Cosmos_War_of_the_Planets_formatOK.mp4\n",
      "now all True\n",
      "./original_videos/The_Hill_Gang_Rides_Again.mp4 -> ./original_videos/The_Hill_Gang_Rides_Again_formatOK.mp4\n",
      "now all True\n",
      "./original_videos/Voyage_to_the_Planet_of_Prehistoric_Women.mp4 -> ./original_videos/Voyage_to_the_Planet_of_Prehistoric_Women_formatOK.mp4\n",
      "now all True\n",
      "./original_videos/Last_man_on_earth_1964.mov -> ./original_videos/Last_man_on_earth_1964_formatOK.mp4\n",
      "now all True\n",
      "./original_videos/The_Gun_and_the_Pulpit.avi -> ./original_videos/The_Gun_and_the_Pulpit_formatOK.mp4\n",
      "now all True\n"
     ]
    }
   ],
   "source": [
    "generate_Movie_File(ORIGINAL_FILE_PATHS)"
   ]
  },
  {
   "cell_type": "markdown",
   "metadata": {},
   "source": [
    "## Confirming the result of converting\n",
    "- confirming the result of converting by generating the report of converted files\n",
    "- the new report file name is 'new_report.txt'\n",
    "- this result: all files are converted as required\n",
    " - Cosmos_War_of_the_Planets_formatOK.mp4: all satisfied\n",
    " - The_Hill_Gang_Rides_Again_formatOK.mp4: all satisfied\n",
    " - Voyage_to_the_Planet_of_Prehistoric_Women_formatOK.mp4: all satisfied\n",
    " - Last_man_on_earth_1964_formatOK.mp4: all satisfied\n",
    " - The_Gun_and_the_Pulpit_formatOK.mp4: all satisfied"
   ]
  },
  {
   "cell_type": "code",
   "execution_count": 13,
   "metadata": {},
   "outputs": [
    {
     "name": "stdout",
     "output_type": "stream",
     "text": [
      "File Name: ./original_videos/Cosmos_War_of_the_Planets_formatOK.mp4\r\n",
      "video_format: mp4 => satisfied\r\n",
      "video_codec: h264 => satisfied\r\n",
      "audio_codec: aac => satisfied\r\n",
      "frame_rate: 25.0 => satisfied\r\n",
      "aspect_ratio: 16:9 => satisfied\r\n",
      "resolution: 640x360 => satisfied\r\n",
      "video_bit_rate(Mb/s): 2.971616 => satisfied\r\n",
      "audio_bit_rate(Kb/s): 129.606 => satisfied\r\n",
      "audio_channels: stereo => satisfied\r\n",
      "--------------------\r\n",
      "File Name: ./original_videos/The_Hill_Gang_Rides_Again_formatOK.mp4\r\n",
      "video_format: mp4 => satisfied\r\n",
      "video_codec: h264 => satisfied\r\n",
      "audio_codec: aac => satisfied\r\n",
      "frame_rate: 25.0 => satisfied\r\n",
      "aspect_ratio: 16:9 => satisfied\r\n",
      "resolution: 640x360 => satisfied\r\n",
      "video_bit_rate(Mb/s): 2.982541 => satisfied\r\n",
      "audio_bit_rate(Kb/s): 128.962 => satisfied\r\n",
      "audio_channels: stereo => satisfied\r\n",
      "--------------------\r\n",
      "File Name: ./original_videos/Voyage_to_the_Planet_of_Prehistoric_Women_formatOK.mp4\r\n",
      "video_format: mp4 => satisfied\r\n",
      "video_codec: h264 => satisfied\r\n",
      "audio_codec: aac => satisfied\r\n",
      "frame_rate: 25.0 => satisfied\r\n",
      "aspect_ratio: 16:9 => satisfied\r\n",
      "resolution: 640x360 => satisfied\r\n",
      "video_bit_rate(Mb/s): 2.861085 => satisfied\r\n",
      "audio_bit_rate(Kb/s): 246.172 => satisfied\r\n",
      "audio_channels: stereo => satisfied\r\n",
      "--------------------\r\n",
      "File Name: ./original_videos/Last_man_on_earth_1964_formatOK.mp4\r\n",
      "video_format: mp4 => satisfied\r\n",
      "video_codec: h264 => satisfied\r\n",
      "audio_codec: aac => satisfied\r\n",
      "frame_rate: 25.0 => satisfied\r\n",
      "aspect_ratio: 16:9 => satisfied\r\n",
      "resolution: 640x360 => satisfied\r\n",
      "video_bit_rate(Mb/s): 3.084563 => satisfied\r\n",
      "audio_bit_rate(Kb/s): 240.951 => satisfied\r\n",
      "audio_channels: stereo => satisfied\r\n",
      "--------------------\r\n",
      "File Name: ./original_videos/The_Gun_and_the_Pulpit_formatOK.mp4\r\n",
      "video_format: mp4 => satisfied\r\n",
      "video_codec: h264 => satisfied\r\n",
      "audio_codec: aac => satisfied\r\n",
      "frame_rate: 25.0 => satisfied\r\n",
      "aspect_ratio: 16:9 => satisfied\r\n",
      "resolution: 640x360 => satisfied\r\n",
      "video_bit_rate(Mb/s): 2.837428 => satisfied\r\n",
      "audio_bit_rate(Kb/s): 128.424 => satisfied\r\n",
      "audio_channels: stereo => satisfied\r\n",
      "--------------------\r\n"
     ]
    }
   ],
   "source": [
    "NEW_REPORT_FILE_NAME = 'new_report.txt'\n",
    "NEW_FILE_PATHS = [\n",
    "    './original_videos/Cosmos_War_of_the_Planets_formatOK.mp4',\n",
    "    './original_videos/The_Hill_Gang_Rides_Again_formatOK.mp4',\n",
    "    './original_videos/Voyage_to_the_Planet_of_Prehistoric_Women_formatOK.mp4',\n",
    "    './original_videos/Last_man_on_earth_1964_formatOK.mp4',\n",
    "    './original_videos/The_Gun_and_the_Pulpit_formatOK.mp4'    \n",
    "]    \n",
    "generate_Report_Text_File(NEW_REPORT_FILE_NAME, NEW_FILE_PATHS)\n",
    "! cat {NEW_REPORT_FILE_NAME}"
   ]
  },
  {
   "cell_type": "code",
   "execution_count": null,
   "metadata": {},
   "outputs": [],
   "source": []
  }
 ],
 "metadata": {
  "kernelspec": {
   "display_name": "Python 3",
   "language": "python",
   "name": "python3"
  },
  "language_info": {
   "codemirror_mode": {
    "name": "ipython",
    "version": 3
   },
   "file_extension": ".py",
   "mimetype": "text/x-python",
   "name": "python",
   "nbconvert_exporter": "python",
   "pygments_lexer": "ipython3",
   "version": "3.7.6"
  }
 },
 "nbformat": 4,
 "nbformat_minor": 4
}
